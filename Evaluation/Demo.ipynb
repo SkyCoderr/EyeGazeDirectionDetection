{
  "nbformat": 4,
  "nbformat_minor": 0,
  "metadata": {
    "colab": {
      "name": "Demo.ipynb",
      "version": "0.3.2",
      "provenance": []
    },
    "kernelspec": {
      "name": "python3",
      "display_name": "Python 3"
    }
  },
  "cells": [
    {
      "cell_type": "markdown",
      "metadata": {
        "id": "YHNw62HyDZ67",
        "colab_type": "text"
      },
      "source": [
        "# **Import**"
      ]
    },
    {
      "cell_type": "code",
      "metadata": {
        "id": "7WbOZk65DOfo",
        "colab_type": "code",
        "colab": {}
      },
      "source": [
        "from google.colab import drive\n",
        "import tensorflow as tf\n",
        "import numpy\n",
        "import random\n",
        "import pickle\n",
        "import cv2\n",
        "import os"
      ],
      "execution_count": 0,
      "outputs": []
    },
    {
      "cell_type": "markdown",
      "metadata": {
        "id": "MYVWeyyI3fQf",
        "colab_type": "text"
      },
      "source": [
        "# **Mount Google Drive**"
      ]
    },
    {
      "cell_type": "code",
      "metadata": {
        "id": "jZzub5ONEzPH",
        "colab_type": "code",
        "outputId": "132c3f5c-7284-4b4a-a25e-8ea95d9ee178",
        "colab": {
          "base_uri": "https://localhost:8080/",
          "height": 122
        }
      },
      "source": [
        "drive.mount('/content/drive')"
      ],
      "execution_count": 8,
      "outputs": [
        {
          "output_type": "stream",
          "text": [
            "Go to this URL in a browser: https://accounts.google.com/o/oauth2/auth?client_id=947318989803-6bn6qk8qdgf4n4g3pfee6491hc0brc4i.apps.googleusercontent.com&redirect_uri=urn%3Aietf%3Awg%3Aoauth%3A2.0%3Aoob&scope=email%20https%3A%2F%2Fwww.googleapis.com%2Fauth%2Fdocs.test%20https%3A%2F%2Fwww.googleapis.com%2Fauth%2Fdrive%20https%3A%2F%2Fwww.googleapis.com%2Fauth%2Fdrive.photos.readonly%20https%3A%2F%2Fwww.googleapis.com%2Fauth%2Fpeopleapi.readonly&response_type=code\n",
            "\n",
            "Enter your authorization code:\n",
            "··········\n",
            "Mounted at /content/drive\n"
          ],
          "name": "stdout"
        }
      ]
    },
    {
      "cell_type": "markdown",
      "metadata": {
        "id": "99mfUWXF3ioj",
        "colab_type": "text"
      },
      "source": [
        "# **Load Model**"
      ]
    },
    {
      "cell_type": "code",
      "metadata": {
        "id": "VoDG01ABY_64",
        "colab_type": "code",
        "colab": {
          "base_uri": "https://localhost:8080/",
          "height": 207
        },
        "outputId": "453711d5-82cf-46ac-e785-761c461bbd2f"
      },
      "source": [
        "model = tf.keras.models.load_model('/content/drive/My Drive/Data/Models/model0/model0.h5')"
      ],
      "execution_count": 9,
      "outputs": [
        {
          "output_type": "stream",
          "text": [
            "WARNING: Logging before flag parsing goes to stderr.\n",
            "W0814 16:17:25.938030 140518703183744 deprecation.py:506] From /usr/local/lib/python3.6/dist-packages/tensorflow/python/ops/init_ops.py:97: calling GlorotUniform.__init__ (from tensorflow.python.ops.init_ops) with dtype is deprecated and will be removed in a future version.\n",
            "Instructions for updating:\n",
            "Call initializer instance with the dtype argument instead of passing it to the constructor\n",
            "W0814 16:17:25.939810 140518703183744 deprecation.py:506] From /usr/local/lib/python3.6/dist-packages/tensorflow/python/ops/init_ops.py:1251: calling VarianceScaling.__init__ (from tensorflow.python.ops.init_ops) with dtype is deprecated and will be removed in a future version.\n",
            "Instructions for updating:\n",
            "Call initializer instance with the dtype argument instead of passing it to the constructor\n",
            "W0814 16:17:25.941196 140518703183744 deprecation.py:506] From /usr/local/lib/python3.6/dist-packages/tensorflow/python/ops/init_ops.py:97: calling Zeros.__init__ (from tensorflow.python.ops.init_ops) with dtype is deprecated and will be removed in a future version.\n",
            "Instructions for updating:\n",
            "Call initializer instance with the dtype argument instead of passing it to the constructor\n"
          ],
          "name": "stderr"
        }
      ]
    },
    {
      "cell_type": "markdown",
      "metadata": {
        "id": "ND_3oTg_wYcr",
        "colab_type": "text"
      },
      "source": [
        "# **Load Data from Images**"
      ]
    },
    {
      "cell_type": "code",
      "metadata": {
        "id": "6OaxavI_wXnx",
        "colab_type": "code",
        "colab": {}
      },
      "source": [
        "folders = [0, 30, 60, 90, 120, 150, 180, 210, 240, 270, 300, 330, 360]\n",
        "CLASSES = [0,10,20,30,40,50,60,70,80,90,100,110,120,130,140,150,160,170,180,-10,-20,-30,-40,-50,-60,-70,-80,-90,-100,-110,-120,-130,-140,-150,-160,-170]\n",
        "path = '/content/drive/My Drive/ImageTest'\n",
        "evaluation = []\n",
        "X_ev = []\n",
        "y_ev = []\n",
        "\n",
        "\n",
        "for folder in folders:\n",
        "  path = os.path.join(path, str(folder))\n",
        "  index = CLASSES.index(folder)\n",
        "  for image in os.listdir(path):\n",
        "    img = cv2.imread(os.path.join(path, image), 0)\n",
        "    img = cv2.resize(img/255, (100,100))\n",
        "    evaluation.append([img, index])\n",
        "\n",
        "\n",
        "random.shuffle(evaluation)\n",
        "\n",
        "\n",
        "for img, label in evaluation:\n",
        "  X_ev.append(img)\n",
        "  y_ev.append(label)"
      ],
      "execution_count": 0,
      "outputs": []
    },
    {
      "cell_type": "markdown",
      "metadata": {
        "id": "BYhCVErg5Ms7",
        "colab_type": "text"
      },
      "source": [
        "# **Pickle Data onto Cloud Drive**"
      ]
    },
    {
      "cell_type": "code",
      "metadata": {
        "id": "Yi3EO1Lq5SeD",
        "colab_type": "code",
        "colab": {}
      },
      "source": [
        "out = open('/content/drive/My Drive/X_ev.pickle', 'wb')\n",
        "pickle.dump(X_ev, out)\n",
        "out.close\n",
        "\n",
        "out = open('/content/drive/My Drive/y_ev.pickle', 'wb')\n",
        "pickle.dump(y_ev, out)\n",
        "out.close"
      ],
      "execution_count": 0,
      "outputs": []
    },
    {
      "cell_type": "markdown",
      "metadata": {
        "id": "_B3kPijr3-4j",
        "colab_type": "text"
      },
      "source": [
        "# **Load Data from Pickle**"
      ]
    },
    {
      "cell_type": "code",
      "metadata": {
        "id": "hFDddFJ14CZI",
        "colab_type": "code",
        "colab": {}
      },
      "source": [
        "X_ev_pickle = open('/content/drive/My Drive/X_ev.pickle', 'rb')\n",
        "X_ev = pickle.load(X_ev_pickle)\n",
        "\n",
        "y_ev_pickle = open('/content/drive/My Drive/y_ev.pickle', 'rb')\n",
        "y_ev = pickle.load(y_ev_pickle)"
      ],
      "execution_count": 0,
      "outputs": []
    },
    {
      "cell_type": "markdown",
      "metadata": {
        "id": "E3E8eDHC6GFT",
        "colab_type": "text"
      },
      "source": [
        "# **Model Evaluation**"
      ]
    },
    {
      "cell_type": "code",
      "metadata": {
        "id": "Sx85WsWl6Cys",
        "colab_type": "code",
        "colab": {}
      },
      "source": [
        "loss, accuracy = model.evaluate(X_ev, y_ev)\n",
        "print(loss)\n",
        "print(accuracy)"
      ],
      "execution_count": 0,
      "outputs": []
    }
  ]
}