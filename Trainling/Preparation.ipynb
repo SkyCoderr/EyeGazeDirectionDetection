{
  "nbformat": 4,
  "nbformat_minor": 0,
  "metadata": {
    "colab": {
      "name": "Preparation.ipynb",
      "version": "0.3.2",
      "provenance": [],
      "collapsed_sections": []
    },
    "kernelspec": {
      "name": "python3",
      "display_name": "Python 3"
    },
    "accelerator": "GPU"
  },
  "cells": [
    {
      "cell_type": "markdown",
      "metadata": {
        "id": "zxk7dw24MUs6",
        "colab_type": "text"
      },
      "source": [
        "# **Import**"
      ]
    },
    {
      "cell_type": "code",
      "metadata": {
        "id": "kgZZNEzUMR6w",
        "colab_type": "code",
        "colab": {}
      },
      "source": [
        "import tensorflow as tf\n",
        "import numpy as np\n",
        "from tensorflow import keras\n",
        "import cv2 as cv\n",
        "from google.colab.patches import cv2_imshow\n",
        "import os\n",
        "import random\n",
        "import math\n",
        "from google.colab import drive\n",
        "import pickle"
      ],
      "execution_count": 0,
      "outputs": []
    },
    {
      "cell_type": "markdown",
      "metadata": {
        "id": "JPanoVXuMy8c",
        "colab_type": "text"
      },
      "source": [
        "# **Mount**"
      ]
    },
    {
      "cell_type": "code",
      "metadata": {
        "id": "tf3c9y-2VlF0",
        "colab_type": "code",
        "outputId": "2af67e66-10dd-43bd-d28b-b0d80e7e2986",
        "colab": {
          "base_uri": "https://localhost:8080/",
          "height": 34
        }
      },
      "source": [
        "drive.mount('/content/drive')"
      ],
      "execution_count": 0,
      "outputs": [
        {
          "output_type": "stream",
          "text": [
            "Drive already mounted at /content/drive; to attempt to forcibly remount, call drive.mount(\"/content/drive\", force_remount=True).\n"
          ],
          "name": "stdout"
        }
      ]
    },
    {
      "cell_type": "markdown",
      "metadata": {
        "id": "euN7WQ5XM5af",
        "colab_type": "text"
      },
      "source": [
        "# **Loading Data**\n",
        "\n",
        "Defined three functions that load images that are looking at the left, the right and the origin.\n",
        "\n",
        "Within these functions, the images are resized from 300\\*300 to 100\\*100, and then stored into a list.\n",
        "\n",
        "The left images are annotated as 0, the right as 1 and the origin as 2, which are the index of CATEGORY for the corresponding value."
      ]
    },
    {
      "cell_type": "code",
      "metadata": {
        "colab_type": "code",
        "id": "RjwWMSlC33VH",
        "colab": {}
      },
      "source": [
        "CATEGORY = ['Left','Right','Origin']\n",
        "DIR = '/content/drive/My Drive/ImageData'\n",
        "\n",
        "\n",
        "def load_left_data():\n",
        "  left_images = []\n",
        "  for i in range(1,9):\n",
        "    path = os.path.join(DIR, 'Left', str(i))\n",
        "    for img in os.listdir(path):\n",
        "      im = cv.imread(os.path.join(path, img), 0)\n",
        "      im = cv.resize(im, (100, 100))\n",
        "      left_images.append([im, 0])\n",
        "  return left_images\n",
        "\n",
        "\n",
        "def load_right_data():\n",
        "  right_images = []\n",
        "  for i in range(1,9):\n",
        "    path = os.path.join(DIR, 'Right', str(i))\n",
        "    for img in os.listdir(path):\n",
        "      im = cv.imread(os.path.join(path, img), 0)\n",
        "      im = cv.resize(im, (100, 100))\n",
        "      right_images.append([im, 1])\n",
        "  return right_images\n",
        "\n",
        "\n",
        "def load_origin_data():\n",
        "  origin_images = []\n",
        "  path = os.path.join(DIR, 'Origin')\n",
        "  for img in os.listdir(path):\n",
        "    im = cv.imread(os.path.join(path, img), 0)\n",
        "    im = cv.resize(im, (100, 100))\n",
        "    origin_images.append([im, 2])\n",
        "  return origin_images"
      ],
      "execution_count": 0,
      "outputs": []
    },
    {
      "cell_type": "markdown",
      "metadata": {
        "id": "v2Dj5W0irKo1",
        "colab_type": "text"
      },
      "source": [
        "    The number of left images is 365.\n",
        "    The number of right images is 438.\n",
        "    The number of origin images is 58"
      ]
    },
    {
      "cell_type": "markdown",
      "metadata": {
        "id": "K0qFNQozrwK4",
        "colab_type": "text"
      },
      "source": [
        "# **Split Data**\n",
        "\n",
        "A random 10% of the images from left list, right list and origin list are moved to test set, with the rest moved to training set."
      ]
    },
    {
      "cell_type": "code",
      "metadata": {
        "id": "ntEIV6SCKz9d",
        "colab_type": "code",
        "colab": {}
      },
      "source": [
        "def split():\n",
        "  \n",
        "  left_images = load_left_data()\n",
        "  left_len = len(left_images)\n",
        "  right_images = load_right_data()\n",
        "  right_len = len(right_images)\n",
        "  origin_images = load_origin_data()\n",
        "  origin_len = len(origin_images)\n",
        "  test_set = []\n",
        "  training_set = []\n",
        "  \n",
        "  count = left_len\n",
        "  for i in range(1, math.floor(0.1*left_len)):\n",
        "    index = random.randint(0, count-1)\n",
        "    test_set.append(left_images.pop(index))\n",
        "    count = count-1\n",
        "  count = right_len\n",
        "  for i in range(0, math.floor(0.1*right_len)):\n",
        "    index = random.randint(0, count-1)\n",
        "    test_set.append(right_images.pop(index))\n",
        "    count = count-1\n",
        "  count = origin_len\n",
        "  for i in range(0, math.floor(0.1*origin_len)):\n",
        "    index = random.randint(0, count-1)\n",
        "    test_set.append(origin_images.pop(index))\n",
        "    count = count-1\n",
        "  training_set = left_images + right_images + origin_images\n",
        "  return training_set, test_set"
      ],
      "execution_count": 0,
      "outputs": []
    },
    {
      "cell_type": "markdown",
      "metadata": {
        "id": "6DRzPxlZsqeR",
        "colab_type": "text"
      },
      "source": [
        "# **Shuffle**\n",
        "\n",
        "Both training set and test set are being shuffled, so that the images are not continuous on one category, it helps making the model less prejudiced."
      ]
    },
    {
      "cell_type": "code",
      "metadata": {
        "colab_type": "code",
        "id": "dFRY1_quUAcf",
        "colab": {}
      },
      "source": [
        "training_set, test_set = split()\n",
        "random.shuffle(training_set)\n",
        "random.shuffle(test_set)"
      ],
      "execution_count": 0,
      "outputs": []
    },
    {
      "cell_type": "markdown",
      "metadata": {
        "id": "vJU8ubJotH8_",
        "colab_type": "text"
      },
      "source": [
        "# **Prepare Training Set**\n",
        "\n",
        "1.   Separate the features (stored in list X) and the label (stored in list y) in the training set.\n",
        "2.   Wrap the lists into Numpy arrays.\n",
        "3.   Reshape the arrays.\n",
        "\n"
      ]
    },
    {
      "cell_type": "code",
      "metadata": {
        "id": "OKuQT10dZpt9",
        "colab_type": "code",
        "colab": {}
      },
      "source": [
        "X = []\n",
        "y = []\n",
        "\n",
        "\n",
        "for image, label in training_set:\n",
        "  X.append(image)\n",
        "  y.append(label)\n",
        "\n",
        "  \n",
        "X = np.array(X).reshape(-1, 100, 100, 1)\n",
        "y = np.array(y).reshape(-1)"
      ],
      "execution_count": 0,
      "outputs": []
    },
    {
      "cell_type": "markdown",
      "metadata": {
        "id": "jmJGlW2VEtGf",
        "colab_type": "text"
      },
      "source": [
        "# **Store Training Set**\n",
        "\n",
        "Store training set feature list X and label list y to path '/content/drive/My Drive/Data'"
      ]
    },
    {
      "cell_type": "code",
      "metadata": {
        "id": "S4yzWak5CQhq",
        "colab_type": "code",
        "colab": {}
      },
      "source": [
        "out = open('/content/drive/My Drive/Data/X.pickle', 'wb')\n",
        "pickle.dump(X, out)\n",
        "out.close()\n",
        "\n",
        "\n",
        "out = open('/content/drive/My Drive/Data/y.pickle', 'wb')\n",
        "pickle.dump(y, out)\n",
        "out.close()"
      ],
      "execution_count": 0,
      "outputs": []
    }
  ]
}