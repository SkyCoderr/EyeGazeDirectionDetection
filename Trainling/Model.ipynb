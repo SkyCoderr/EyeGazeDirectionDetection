{
  "nbformat": 4,
  "nbformat_minor": 0,
  "metadata": {
    "colab": {
      "name": "Model.ipynb",
      "version": "0.3.2",
      "provenance": [],
      "collapsed_sections": []
    },
    "kernelspec": {
      "name": "python3",
      "display_name": "Python 3"
    }
  },
  "cells": [
    {
      "cell_type": "code",
      "metadata": {
        "id": "b763Xxov9JBO",
        "colab_type": "code",
        "colab": {}
      },
      "source": [
        "import tensorflow as tf\n",
        "import numpy as np\n",
        "from tensorflow import keras\n",
        "import cv2 as cv\n",
        "from google.colab.patches import cv2_imshow\n",
        "import os\n",
        "import random\n",
        "import math\n",
        "from google.colab import drive"
      ],
      "execution_count": 0,
      "outputs": []
    },
    {
      "cell_type": "code",
      "metadata": {
        "id": "tf3c9y-2VlF0",
        "colab_type": "code",
        "outputId": "cf7e278d-516f-4de8-df60-0ec3c826ed6f",
        "colab": {
          "base_uri": "https://localhost:8080/",
          "height": 34
        }
      },
      "source": [
        "drive.mount('/content/drive')"
      ],
      "execution_count": 113,
      "outputs": [
        {
          "output_type": "stream",
          "text": [
            "Drive already mounted at /content/drive; to attempt to forcibly remount, call drive.mount(\"/content/drive\", force_remount=True).\n"
          ],
          "name": "stdout"
        }
      ]
    },
    {
      "cell_type": "code",
      "metadata": {
        "colab_type": "code",
        "id": "RjwWMSlC33VH",
        "colab": {}
      },
      "source": [
        "CATEGORY = ['Left','Right','Origin']\n",
        "DIR = '/content/drive/My Drive/ImageData'\n",
        "\n",
        "\n",
        "def load_left_data():\n",
        "  left_images = []\n",
        "  for i in range(1,9):\n",
        "    path = os.path.join(DIR, 'Left', str(i))\n",
        "    for img in os.listdir(path):\n",
        "      im = cv.imread(os.path.join(path, img), 0)\n",
        "      im = cv.resize(im, (100, 100))\n",
        "      left_images.append([im, -1])\n",
        "  return left_images\n",
        "\n",
        "\n",
        "def load_right_data():\n",
        "  right_images = []\n",
        "  for i in range(1,9):\n",
        "    path = os.path.join(DIR, 'Right', str(i))\n",
        "    for img in os.listdir(path):\n",
        "      im = cv.imread(os.path.join(path, img), 0)\n",
        "      im = cv.resize(im, (100, 100))\n",
        "      right_images.append([im, 1])\n",
        "  return right_images\n",
        "\n",
        "\n",
        "def load_origin_data():\n",
        "  origin_images = []\n",
        "  path = os.path.join(DIR, 'Origin')\n",
        "  for img in os.listdir(path):\n",
        "    im = cv.imread(os.path.join(path, img), 0)\n",
        "    im = cv.resize(im, (100, 100))\n",
        "    origin_images.append([im, 0])\n",
        "  return origin_images"
      ],
      "execution_count": 0,
      "outputs": []
    },
    {
      "cell_type": "code",
      "metadata": {
        "id": "y26-VZc4-qxR",
        "colab_type": "code",
        "colab": {}
      },
      "source": [
        "# print(len(load_left_data()))    365\n",
        "# print(len(load_right_data()))   438\n",
        "# print(len(load_origin_data()))  58"
      ],
      "execution_count": 0,
      "outputs": []
    },
    {
      "cell_type": "code",
      "metadata": {
        "id": "ntEIV6SCKz9d",
        "colab_type": "code",
        "colab": {}
      },
      "source": [
        "def split():\n",
        "  \n",
        "  left_images = load_left_data()\n",
        "  left_len = len(left_images)\n",
        "  right_images = load_right_data()\n",
        "  right_len = len(right_images)\n",
        "  origin_images = load_origin_data()\n",
        "  origin_len = len(origin_images)\n",
        "  test_set = []\n",
        "  training_set = []\n",
        "  \n",
        "  count = left_len\n",
        "  for i in range(1, math.floor(0.1*left_len)):\n",
        "    index = random.randint(0, count-1)\n",
        "    test_set.append(left_images.pop(index))\n",
        "    count = count-1\n",
        "  count = right_len\n",
        "  for i in range(0, math.floor(0.1*right_len)):\n",
        "    index = random.randint(0, count-1)\n",
        "    test_set.append(right_images.pop(index))\n",
        "    count = count-1\n",
        "  count = origin_len\n",
        "  for i in range(0, math.floor(0.1*origin_len)):\n",
        "    index = random.randint(0, count-1)\n",
        "    test_set.append(origin_images.pop(index))\n",
        "    count = count-1\n",
        "  training_set = left_images + right_images + origin_images\n",
        "  return training_set, test_set"
      ],
      "execution_count": 0,
      "outputs": []
    },
    {
      "cell_type": "code",
      "metadata": {
        "colab_type": "code",
        "outputId": "14f4a43c-3263-4ad2-9b55-0e1781fbf380",
        "id": "dFRY1_quUAcf",
        "colab": {
          "base_uri": "https://localhost:8080/",
          "height": 34
        }
      },
      "source": [
        "training_set, test_set = split()\n",
        "print(len(training_set), ' ', len(test_set))"
      ],
      "execution_count": 127,
      "outputs": [
        {
          "output_type": "stream",
          "text": [
            "778   83\n"
          ],
          "name": "stdout"
        }
      ]
    }
  ]
}