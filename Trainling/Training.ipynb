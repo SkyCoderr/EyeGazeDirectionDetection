{
  "nbformat": 4,
  "nbformat_minor": 0,
  "metadata": {
    "colab": {
      "name": "Training.ipynb",
      "version": "0.3.2",
      "provenance": []
    },
    "kernelspec": {
      "name": "python3",
      "display_name": "Python 3"
    },
    "accelerator": "GPU"
  },
  "cells": [
    {
      "cell_type": "code",
      "metadata": {
        "id": "AlGsdfffHSjy",
        "colab_type": "code",
        "outputId": "793288a0-0f5c-4a69-ffdf-f78a51c59f1e",
        "colab": {
          "base_uri": "https://localhost:8080/",
          "height": 34
        }
      },
      "source": [
        "import numpy as np\n",
        "import tensorflow as tf\n",
        "from tensorflow.keras.models import Sequential\n",
        "from tensorflow.keras.layers import Dense, Dropout, Activation, Flatten, Conv2D, MaxPooling2D\n",
        "import pickle\n",
        "from google.colab import drive\n",
        "drive.mount('/content/drive')"
      ],
      "execution_count": 6,
      "outputs": [
        {
          "output_type": "stream",
          "text": [
            "Drive already mounted at /content/drive; to attempt to forcibly remount, call drive.mount(\"/content/drive\", force_remount=True).\n"
          ],
          "name": "stdout"
        }
      ]
    },
    {
      "cell_type": "code",
      "metadata": {
        "id": "ACfBLEb3HozO",
        "colab_type": "code",
        "colab": {}
      },
      "source": [
        "training_set_pickle = open('/content/drive/My Drive/Data/training_set.pickle', 'rb')\n",
        "training_set = pickle.load(training_set_pickle)\n",
        "test_set_pickle = open('/content/drive/My Drive/Data/test_set.pickle', 'rb')\n",
        "test_set = pickle.load(test_set_pickle)"
      ],
      "execution_count": 0,
      "outputs": []
    },
    {
      "cell_type": "code",
      "metadata": {
        "id": "ZhRdE-XEg7YC",
        "colab_type": "code",
        "colab": {
          "base_uri": "https://localhost:8080/",
          "height": 238
        },
        "outputId": "916bde38-0f3a-4319-b533-0ed8d92fed85"
      },
      "source": [
        "training_set[55]"
      ],
      "execution_count": 10,
      "outputs": [
        {
          "output_type": "execute_result",
          "data": {
            "text/plain": [
              "[array([[0.48627451, 0.44705882, 0.4745098 , ..., 0.58039216, 0.57254902,\n",
              "         0.56862745],\n",
              "        [0.46666667, 0.45882353, 0.44313725, ..., 0.57647059, 0.55294118,\n",
              "         0.56078431],\n",
              "        [0.48235294, 0.4745098 , 0.48235294, ..., 0.55294118, 0.56862745,\n",
              "         0.54117647],\n",
              "        ...,\n",
              "        [0.12941176, 0.09803922, 0.14509804, ..., 0.40392157, 0.42745098,\n",
              "         0.40784314],\n",
              "        [0.0745098 , 0.09803922, 0.12156863, ..., 0.40784314, 0.43137255,\n",
              "         0.41568627],\n",
              "        [0.08627451, 0.10588235, 0.1254902 , ..., 0.44313725, 0.43137255,\n",
              "         0.41568627]]), 0]"
            ]
          },
          "metadata": {
            "tags": []
          },
          "execution_count": 10
        }
      ]
    },
    {
      "cell_type": "code",
      "metadata": {
        "id": "OpdOHmhhrw11",
        "colab_type": "code",
        "colab": {}
      },
      "source": [
        "training_set = np.array(training_set).reshape(-1)\n",
        "?training_set"
      ],
      "execution_count": 0,
      "outputs": []
    },
    {
      "cell_type": "code",
      "metadata": {
        "colab_type": "code",
        "outputId": "7de44989-6e1b-42e9-81dd-73e7d651518e",
        "id": "2bkv_x5DhuQy",
        "colab": {
          "base_uri": "https://localhost:8080/",
          "height": 130
        }
      },
      "source": [
        "model = Sequential()\n",
        "\n",
        "model.add(Conv2D(64, (3,3))\n",
        "#model.add(Activation('relu'))\n",
        "model.add(MaxPooling2D(pool_size = (2,2)))\n",
        "\n",
        "model = Sequential()\n",
        "model.add(Conv2D(64, (3,3))\n",
        "model.add(Activation('relu'))\n",
        "model.add(MaxPooling2D(pool_size = (2,2)))\n",
        "          \n",
        "model.add(Flatten())\n",
        "model.add(Dense(64))\n",
        "          \n",
        "model.add(Dense(1))\n",
        "model.add(Activation('sigmoid'))\n",
        "          \n",
        "model.compile(loss = 'categorical_crossentropy', optimizer = 'adam', metrics = ['accuracy'])\n",
        "          \n",
        "model.fit(training_set, batch_size = 20, validation_split=0.1)"
      ],
      "execution_count": 5,
      "outputs": [
        {
          "output_type": "error",
          "ename": "SyntaxError",
          "evalue": "ignored",
          "traceback": [
            "\u001b[0;36m  File \u001b[0;32m\"<ipython-input-5-f7e844a10130>\"\u001b[0;36m, line \u001b[0;32m5\u001b[0m\n\u001b[0;31m    model.add(MaxPooling2D(pool_size = (2,2)))\u001b[0m\n\u001b[0m        ^\u001b[0m\n\u001b[0;31mSyntaxError\u001b[0m\u001b[0;31m:\u001b[0m invalid syntax\n"
          ]
        }
      ]
    }
  ]
}