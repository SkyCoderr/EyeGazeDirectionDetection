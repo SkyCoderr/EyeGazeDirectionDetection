{
  "nbformat": 4,
  "nbformat_minor": 0,
  "metadata": {
    "colab": {
      "name": "Training.ipynb",
      "version": "0.3.2",
      "provenance": [],
      "collapsed_sections": []
    },
    "kernelspec": {
      "name": "python3",
      "display_name": "Python 3"
    }
  },
  "cells": [
    {
      "cell_type": "code",
      "metadata": {
        "id": "HKxS7hVe3p3q",
        "colab_type": "code",
        "colab": {
          "base_uri": "https://localhost:8080/",
          "height": 51
        },
        "outputId": "c7ff9d98-4b06-409f-99aa-992e96f90e5d"
      },
      "source": [
        "import numpy as np\n",
        "import tensorflow as tf\n",
        "from tensorflow.keras.models import Sequential\n",
        "from tensorflow.keras.layers import Dense, Dropout, Activation, Flatten, Conv2D, MaxPooling2D\n",
        "from keras.utils import to_categorical\n",
        "import pickle\n",
        "from google.colab import drive\n",
        "drive.mount('/content/drive')"
      ],
      "execution_count": 21,
      "outputs": [
        {
          "output_type": "stream",
          "text": [
            "Drive already mounted at /content/drive; to attempt to forcibly remount, call drive.mount(\"/content/drive\", force_remount=True).\n"
          ],
          "name": "stdout"
        },
        {
          "output_type": "stream",
          "text": [
            "Using TensorFlow backend.\n"
          ],
          "name": "stderr"
        }
      ]
    },
    {
      "cell_type": "code",
      "metadata": {
        "id": "wVtJr3vL3wSP",
        "colab_type": "code",
        "colab": {
          "base_uri": "https://localhost:8080/",
          "height": 34
        },
        "outputId": "cb4b04d9-cec8-404e-e735-5594c7c132d8"
      },
      "source": [
        "X_train_pickle = open('/content/drive/My Drive/Data/X_train.pickle', 'rb')\n",
        "X_train = pickle.load(X_train_pickle)\n",
        "\n",
        "y_train_pickle = open('/content/drive/My Drive/Data/y_train.pickle', 'rb')\n",
        "y_train = pickle.load(y_train_pickle)\n",
        "\n",
        "test_set_pickle = open('/content/drive/My Drive/Data/test_set.pickle', 'rb')\n",
        "test_set = pickle.load(test_set_pickle)\n",
        "\n",
        "X_train = np.array(X_train).reshape((778,100,100,1))\n",
        "y_train = to_categorical(np.array(y_train))"
      ],
      "execution_count": 22,
      "outputs": [
        {
          "output_type": "stream",
          "text": [
            "[0. 1. 0.]\n"
          ],
          "name": "stdout"
        }
      ]
    },
    {
      "cell_type": "code",
      "metadata": {
        "id": "tzg5xHyV4Ewo",
        "colab_type": "code",
        "colab": {
          "base_uri": "https://localhost:8080/",
          "height": 731
        },
        "outputId": "56f365b3-89a8-48d6-c64e-164a49b3ec43"
      },
      "source": [
        "model = Sequential()\n",
        "\n",
        "model.add(Conv2D(64, (3,3), input_shape=(100, 100, 1)))\n",
        "model.add(Activation('relu'))\n",
        "model.add(MaxPooling2D(pool_size=(2,2)))\n",
        "\n",
        "model.add(Conv2D(64, (3,3)))\n",
        "model.add(Activation('relu'))\n",
        "model.add(MaxPooling2D(pool_size=(2,2)))\n",
        "\n",
        "model.add(Flatten())\n",
        "model.add(Dense(64))\n",
        "model.add(Activation('relu'))\n",
        "\n",
        "model.add(Dense(3))\n",
        "model.add(Activation('softmax'))\n",
        "\n",
        "model.compile(loss='categorical_crossentropy', optimizer = tf.keras.optimizers.RMSprop(lr=0.00001), metrics=['accuracy'])\n",
        "\n",
        "model.fit(X_train, y_train, epochs=20, batch_size=20, validation_split=0.1)"
      ],
      "execution_count": 24,
      "outputs": [
        {
          "output_type": "stream",
          "text": [
            "Train on 700 samples, validate on 78 samples\n",
            "Epoch 1/20\n",
            "700/700 [==============================] - 15s 21ms/sample - loss: 0.9069 - acc: 0.4786 - val_loss: 0.9424 - val_acc: 0.5128\n",
            "Epoch 2/20\n",
            "700/700 [==============================] - 15s 21ms/sample - loss: 0.8788 - acc: 0.5329 - val_loss: 1.0046 - val_acc: 0.3846\n",
            "Epoch 3/20\n",
            "700/700 [==============================] - 15s 21ms/sample - loss: 0.8661 - acc: 0.5343 - val_loss: 0.9238 - val_acc: 0.5256\n",
            "Epoch 4/20\n",
            "700/700 [==============================] - 15s 21ms/sample - loss: 0.8476 - acc: 0.5571 - val_loss: 0.8996 - val_acc: 0.7051\n",
            "Epoch 5/20\n",
            "700/700 [==============================] - 15s 21ms/sample - loss: 0.8148 - acc: 0.6186 - val_loss: 0.8593 - val_acc: 0.7564\n",
            "Epoch 6/20\n",
            "700/700 [==============================] - 15s 21ms/sample - loss: 0.7824 - acc: 0.6757 - val_loss: 0.8675 - val_acc: 0.6538\n",
            "Epoch 7/20\n",
            "700/700 [==============================] - 15s 21ms/sample - loss: 0.7541 - acc: 0.6829 - val_loss: 0.7856 - val_acc: 0.6282\n",
            "Epoch 8/20\n",
            "700/700 [==============================] - 15s 21ms/sample - loss: 0.7136 - acc: 0.7300 - val_loss: 0.7442 - val_acc: 0.6538\n",
            "Epoch 9/20\n",
            "700/700 [==============================] - 15s 21ms/sample - loss: 0.6772 - acc: 0.6971 - val_loss: 0.7056 - val_acc: 0.7692\n",
            "Epoch 10/20\n",
            "700/700 [==============================] - 15s 21ms/sample - loss: 0.6352 - acc: 0.7629 - val_loss: 0.6491 - val_acc: 0.8077\n",
            "Epoch 11/20\n",
            "700/700 [==============================] - 15s 21ms/sample - loss: 0.5960 - acc: 0.7686 - val_loss: 0.6160 - val_acc: 0.8205\n",
            "Epoch 12/20\n",
            "700/700 [==============================] - 15s 21ms/sample - loss: 0.5696 - acc: 0.7729 - val_loss: 0.8272 - val_acc: 0.4744\n",
            "Epoch 13/20\n",
            "700/700 [==============================] - 15s 21ms/sample - loss: 0.5439 - acc: 0.8043 - val_loss: 0.5333 - val_acc: 0.8590\n",
            "Epoch 14/20\n",
            "700/700 [==============================] - 15s 21ms/sample - loss: 0.5051 - acc: 0.8229 - val_loss: 0.5006 - val_acc: 0.9103\n",
            "Epoch 15/20\n",
            "700/700 [==============================] - 15s 21ms/sample - loss: 0.4938 - acc: 0.8114 - val_loss: 0.4971 - val_acc: 0.8462\n",
            "Epoch 16/20\n",
            "700/700 [==============================] - 15s 21ms/sample - loss: 0.4741 - acc: 0.8129 - val_loss: 0.4768 - val_acc: 0.8590\n",
            "Epoch 17/20\n",
            "700/700 [==============================] - 15s 21ms/sample - loss: 0.4615 - acc: 0.8171 - val_loss: 0.5735 - val_acc: 0.7308\n",
            "Epoch 18/20\n",
            "700/700 [==============================] - 15s 21ms/sample - loss: 0.4398 - acc: 0.8443 - val_loss: 0.4676 - val_acc: 0.8974\n",
            "Epoch 19/20\n",
            "700/700 [==============================] - 15s 21ms/sample - loss: 0.4334 - acc: 0.8414 - val_loss: 0.4109 - val_acc: 0.8974\n",
            "Epoch 20/20\n",
            "700/700 [==============================] - 15s 21ms/sample - loss: 0.3988 - acc: 0.8500 - val_loss: 0.4718 - val_acc: 0.8590\n"
          ],
          "name": "stdout"
        },
        {
          "output_type": "execute_result",
          "data": {
            "text/plain": [
              "<tensorflow.python.keras.callbacks.History at 0x7f37e8a37080>"
            ]
          },
          "metadata": {
            "tags": []
          },
          "execution_count": 24
        }
      ]
    },
    {
      "cell_type": "code",
      "metadata": {
        "id": "bwJY8lsbD-wh",
        "colab_type": "code",
        "colab": {}
      },
      "source": [
        "\n"
      ],
      "execution_count": 0,
      "outputs": []
    }
  ]
}