{
  "nbformat": 4,
  "nbformat_minor": 0,
  "metadata": {
    "colab": {
      "name": "Training.ipynb",
      "version": "0.3.2",
      "provenance": [],
      "collapsed_sections": []
    },
    "kernelspec": {
      "name": "python3",
      "display_name": "Python 3"
    },
    "accelerator": "TPU"
  },
  "cells": [
    {
      "cell_type": "code",
      "metadata": {
        "id": "HKxS7hVe3p3q",
        "colab_type": "code",
        "colab": {
          "base_uri": "https://localhost:8080/",
          "height": 51
        },
        "outputId": "4e8c099b-6f43-4558-9803-92df906f02db"
      },
      "source": [
        "import numpy as np\n",
        "import tensorflow as tf\n",
        "from tensorflow.keras.models import Sequential\n",
        "from tensorflow.keras.layers import Dense, Dropout, Activation, Flatten, Conv2D, MaxPooling2D\n",
        "from keras.utils import to_categorical\n",
        "import pickle\n",
        "from google.colab import drive\n",
        "drive.mount('/content/drive')"
      ],
      "execution_count": 1,
      "outputs": [
        {
          "output_type": "stream",
          "text": [
            "Drive already mounted at /content/drive; to attempt to forcibly remount, call drive.mount(\"/content/drive\", force_remount=True).\n"
          ],
          "name": "stdout"
        },
        {
          "output_type": "stream",
          "text": [
            "Using TensorFlow backend.\n"
          ],
          "name": "stderr"
        }
      ]
    },
    {
      "cell_type": "code",
      "metadata": {
        "id": "wVtJr3vL3wSP",
        "colab_type": "code",
        "colab": {}
      },
      "source": [
        "X_train_pickle = open('/content/drive/My Drive/Data/X_train.pickle', 'rb')\n",
        "X_train = pickle.load(X_train_pickle)\n",
        "\n",
        "y_train_pickle = open('/content/drive/My Drive/Data/y_train.pickle', 'rb')\n",
        "y_train = pickle.load(y_train_pickle)\n",
        "\n",
        "X_test_pickle = open('/content/drive/My Drive/Data/X_test.pickle', 'rb')\n",
        "X_test = pickle.load(X_test_pickle)\n",
        "\n",
        "y_test_pickle = open('/content/drive/My Drive/Data/y_test.pickle', 'rb')\n",
        "y_test = pickle.load(y_test_pickle)\n",
        "\n",
        "X_train = np.array(X_train).reshape(778,100,100,1)\n",
        "y_train = to_categorical(np.array(y_train))\n",
        "\n",
        "X_test = np.array(X_test).reshape(83,100,100,1)\n",
        "y_test = to_categorical(np.array(y_test))"
      ],
      "execution_count": 0,
      "outputs": []
    },
    {
      "cell_type": "code",
      "metadata": {
        "id": "tzg5xHyV4Ewo",
        "colab_type": "code",
        "colab": {
          "base_uri": "https://localhost:8080/",
          "height": 819
        },
        "outputId": "ccefc1df-8b2f-4e30-dbbc-84c2181ab0c1"
      },
      "source": [
        "model = Sequential()\n",
        "\n",
        "model.add(Conv2D(64, (3,3), input_shape=(100, 100, 1)))\n",
        "model.add(Activation('relu'))\n",
        "model.add(MaxPooling2D(pool_size=(2,2)))\n",
        "\n",
        "model.add(Conv2D(64, (3,3)))\n",
        "model.add(Activation('relu'))\n",
        "model.add(MaxPooling2D(pool_size=(2,2)))\n",
        "\n",
        "model.add(Flatten())\n",
        "model.add(Dense(64))\n",
        "model.add(Activation('relu'))\n",
        "\n",
        "model.add(Dense(3))\n",
        "model.add(Activation('softmax'))\n",
        "\n",
        "model.compile(loss='categorical_crossentropy', optimizer = tf.keras.optimizers.RMSprop(lr=0.0001), metrics=['accuracy'])\n",
        "\n",
        "model.fit(X_train, y_train, epochs=20, batch_size=20, validation_split=0.1)"
      ],
      "execution_count": 3,
      "outputs": [
        {
          "output_type": "stream",
          "text": [
            "WARNING: Logging before flag parsing goes to stderr.\n",
            "W0727 15:57:33.999557 139968799897472 deprecation.py:506] From /usr/local/lib/python3.6/dist-packages/tensorflow/python/ops/init_ops.py:1251: calling VarianceScaling.__init__ (from tensorflow.python.ops.init_ops) with dtype is deprecated and will be removed in a future version.\n",
            "Instructions for updating:\n",
            "Call initializer instance with the dtype argument instead of passing it to the constructor\n"
          ],
          "name": "stderr"
        },
        {
          "output_type": "stream",
          "text": [
            "Train on 700 samples, validate on 78 samples\n",
            "Epoch 1/20\n",
            "700/700 [==============================] - 16s 23ms/sample - loss: 0.9155 - acc: 0.4729 - val_loss: 0.8335 - val_acc: 0.6538\n",
            "Epoch 2/20\n",
            "700/700 [==============================] - 15s 22ms/sample - loss: 0.8943 - acc: 0.5343 - val_loss: 0.8168 - val_acc: 0.5385\n",
            "Epoch 3/20\n",
            "700/700 [==============================] - 16s 22ms/sample - loss: 0.8762 - acc: 0.5657 - val_loss: 0.8214 - val_acc: 0.6923\n",
            "Epoch 4/20\n",
            "700/700 [==============================] - 16s 22ms/sample - loss: 0.8453 - acc: 0.6071 - val_loss: 0.8139 - val_acc: 0.7308\n",
            "Epoch 5/20\n",
            "700/700 [==============================] - 16s 22ms/sample - loss: 0.8087 - acc: 0.6557 - val_loss: 0.7680 - val_acc: 0.6026\n",
            "Epoch 6/20\n",
            "700/700 [==============================] - 16s 22ms/sample - loss: 0.7726 - acc: 0.6929 - val_loss: 0.7461 - val_acc: 0.6538\n",
            "Epoch 7/20\n",
            "700/700 [==============================] - 16s 22ms/sample - loss: 0.7351 - acc: 0.7386 - val_loss: 0.6632 - val_acc: 0.8333\n",
            "Epoch 8/20\n",
            "700/700 [==============================] - 15s 22ms/sample - loss: 0.6837 - acc: 0.7729 - val_loss: 0.6547 - val_acc: 0.6026\n",
            "Epoch 9/20\n",
            "700/700 [==============================] - 16s 22ms/sample - loss: 0.6436 - acc: 0.7900 - val_loss: 0.5923 - val_acc: 0.8205\n",
            "Epoch 10/20\n",
            "700/700 [==============================] - 16s 22ms/sample - loss: 0.6053 - acc: 0.8086 - val_loss: 0.5618 - val_acc: 0.7949\n",
            "Epoch 11/20\n",
            "700/700 [==============================] - 16s 22ms/sample - loss: 0.5585 - acc: 0.8157 - val_loss: 0.5276 - val_acc: 0.8205\n",
            "Epoch 12/20\n",
            "700/700 [==============================] - 16s 22ms/sample - loss: 0.5336 - acc: 0.8143 - val_loss: 0.4890 - val_acc: 0.8590\n",
            "Epoch 13/20\n",
            "700/700 [==============================] - 16s 22ms/sample - loss: 0.4863 - acc: 0.8371 - val_loss: 0.5041 - val_acc: 0.7949\n",
            "Epoch 14/20\n",
            "700/700 [==============================] - 16s 22ms/sample - loss: 0.4691 - acc: 0.8329 - val_loss: 0.4580 - val_acc: 0.8590\n",
            "Epoch 15/20\n",
            "700/700 [==============================] - 16s 22ms/sample - loss: 0.4354 - acc: 0.8229 - val_loss: 0.4178 - val_acc: 0.8846\n",
            "Epoch 16/20\n",
            "700/700 [==============================] - 16s 22ms/sample - loss: 0.4049 - acc: 0.8486 - val_loss: 0.4270 - val_acc: 0.8590\n",
            "Epoch 17/20\n",
            "700/700 [==============================] - 15s 22ms/sample - loss: 0.3881 - acc: 0.8600 - val_loss: 0.3814 - val_acc: 0.8462\n",
            "Epoch 18/20\n",
            "700/700 [==============================] - 16s 22ms/sample - loss: 0.3546 - acc: 0.8743 - val_loss: 0.3555 - val_acc: 0.8718\n",
            "Epoch 19/20\n",
            "700/700 [==============================] - 16s 22ms/sample - loss: 0.3544 - acc: 0.8814 - val_loss: 0.3515 - val_acc: 0.8462\n",
            "Epoch 20/20\n",
            "700/700 [==============================] - 16s 22ms/sample - loss: 0.3171 - acc: 0.8900 - val_loss: 0.3262 - val_acc: 0.8718\n"
          ],
          "name": "stdout"
        },
        {
          "output_type": "execute_result",
          "data": {
            "text/plain": [
              "<tensorflow.python.keras.callbacks.History at 0x7f4ccc7c2860>"
            ]
          },
          "metadata": {
            "tags": []
          },
          "execution_count": 3
        }
      ]
    },
    {
      "cell_type": "code",
      "metadata": {
        "id": "bwJY8lsbD-wh",
        "colab_type": "code",
        "colab": {
          "base_uri": "https://localhost:8080/",
          "height": 68
        },
        "outputId": "4039370d-7555-43da-c6d4-63957d8d1894"
      },
      "source": [
        "loss, accuracy = model.evaluate(X_test, y_test)\n",
        "print(loss)\n",
        "print(accuracy)"
      ],
      "execution_count": 4,
      "outputs": [
        {
          "output_type": "stream",
          "text": [
            "83/83 [==============================] - 0s 4ms/sample - loss: 0.3342 - acc: 0.8554\n",
            "0.33424701389059963\n",
            "0.85542166\n"
          ],
          "name": "stdout"
        }
      ]
    }
  ]
}