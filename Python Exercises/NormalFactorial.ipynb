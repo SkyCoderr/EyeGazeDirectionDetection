{
  "nbformat": 4,
  "nbformat_minor": 0,
  "metadata": {
    "colab": {
      "name": "NormalFactorial.ipynb",
      "version": "0.3.2",
      "provenance": []
    },
    "kernelspec": {
      "name": "python3",
      "display_name": "Python 3"
    }
  },
  "cells": [
    {
      "cell_type": "code",
      "metadata": {
        "id": "liAby3P6CjVh",
        "colab_type": "code",
        "colab": {}
      },
      "source": [
        "def factorial(number):\n",
        "  product = 1\n",
        "  while not number == 0:\n",
        "    product *= number\n",
        "    number -= 1\n",
        "  return product"
      ],
      "execution_count": 0,
      "outputs": []
    },
    {
      "cell_type": "code",
      "metadata": {
        "id": "0zJPLltoEEcU",
        "colab_type": "code",
        "outputId": "82e648ca-f73b-4e62-cbc1-c21c6eeece1a",
        "colab": {
          "base_uri": "https://localhost:8080/",
          "height": 35
        }
      },
      "source": [
        "print(factorial(5))"
      ],
      "execution_count": 0,
      "outputs": [
        {
          "output_type": "stream",
          "text": [
            "120\n"
          ],
          "name": "stdout"
        }
      ]
    }
  ]
}