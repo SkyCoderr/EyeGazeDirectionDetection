{
  "nbformat": 4,
  "nbformat_minor": 0,
  "metadata": {
    "colab": {
      "name": "Preparation.ipynb",
      "version": "0.3.2",
      "provenance": [],
      "collapsed_sections": []
    },
    "kernelspec": {
      "name": "python3",
      "display_name": "Python 3"
    },
    "accelerator": "GPU"
  },
  "cells": [
    {
      "cell_type": "markdown",
      "metadata": {
        "id": "vgI9L6vzYw9H",
        "colab_type": "text"
      },
      "source": [
        "# **Import**"
      ]
    },
    {
      "cell_type": "code",
      "metadata": {
        "id": "zx0NuDAOIhRE",
        "colab_type": "code",
        "colab": {}
      },
      "source": [
        "import numpy as np\n",
        "import cv2 as cv\n",
        "from tensorflow.keras.utils import to_categorical\n",
        "import os\n",
        "import random\n",
        "import math\n",
        "from google.colab import drive\n",
        "import pickle"
      ],
      "execution_count": 0,
      "outputs": []
    },
    {
      "cell_type": "code",
      "metadata": {
        "id": "wFsU0CdQY6md",
        "colab_type": "code",
        "outputId": "678f23e0-6c11-4e6d-cc9a-76a3996cbd69",
        "colab": {
          "base_uri": "https://localhost:8080/",
          "height": 122
        }
      },
      "source": [
        "drive.mount('/content/drive')"
      ],
      "execution_count": 0,
      "outputs": [
        {
          "output_type": "stream",
          "text": [
            "Go to this URL in a browser: https://accounts.google.com/o/oauth2/auth?client_id=947318989803-6bn6qk8qdgf4n4g3pfee6491hc0brc4i.apps.googleusercontent.com&redirect_uri=urn%3Aietf%3Awg%3Aoauth%3A2.0%3Aoob&scope=email%20https%3A%2F%2Fwww.googleapis.com%2Fauth%2Fdocs.test%20https%3A%2F%2Fwww.googleapis.com%2Fauth%2Fdrive%20https%3A%2F%2Fwww.googleapis.com%2Fauth%2Fdrive.photos.readonly%20https%3A%2F%2Fwww.googleapis.com%2Fauth%2Fpeopleapi.readonly&response_type=code\n",
            "\n",
            "Enter your authorization code:\n",
            "··········\n",
            "Mounted at /content/drive\n"
          ],
          "name": "stdout"
        }
      ]
    },
    {
      "cell_type": "markdown",
      "metadata": {
        "id": "p-5OEkliZInj",
        "colab_type": "text"
      },
      "source": [
        "# **Loading And Splitting Data**\n",
        "\n",
        "1.   Defined a function tht loads images of looking at a certain direction given the angle.\n",
        "2.   Within the function, the images are resized from 300*300 to 100*100, normalized and then stored into a list.\n",
        "3.   The images are annotated by their actual values of the angle.\n",
        "4.   A random 10% of the images from each class are removed to test set, with the rest moved to training set."
      ]
    },
    {
      "cell_type": "code",
      "metadata": {
        "id": "nirnEXyOi7jq",
        "colab_type": "code",
        "colab": {}
      },
      "source": [
        "DIR = '/content/drive/My Drive/ImageData'\n",
        "CLASSES = [0,10,20,30,40,50,60,70,80,90,100,110,120,130,140,150,160,170,180,-10,-20,-30,-40,-50,-60,-70,-80,-90,-100,-110,-120,-130,-140,-150,-160,-170]"
      ],
      "execution_count": 0,
      "outputs": []
    },
    {
      "cell_type": "code",
      "metadata": {
        "id": "bleO8qDwcv6T",
        "colab_type": "code",
        "colab": {}
      },
      "source": [
        "def split(images):\n",
        "  \n",
        "  training_set = []\n",
        "  test_set = []\n",
        "  \n",
        "  length = len(images)\n",
        "  count = length\n",
        "  rate = 0.1\n",
        "  floor = math.floor(rate*length)\n",
        "  \n",
        "  for i in range(1, floor):\n",
        "    index = random.randint(0, count-1)\n",
        "    test_set.append(images.pop(index))\n",
        "    count = count-1\n",
        "  \n",
        "  training_set = images\n",
        "  \n",
        "  return training_set, test_set"
      ],
      "execution_count": 0,
      "outputs": []
    },
    {
      "cell_type": "code",
      "metadata": {
        "id": "xSWSqm0MacLv",
        "colab_type": "code",
        "colab": {}
      },
      "source": [
        "def load_images():\n",
        "  training_set = []\n",
        "  test_set = []\n",
        "  \n",
        "  for integer in CLASSES:\n",
        "    path = os.path.join(DIR, str(integer))\n",
        "    index = CLASSES.index(integer)\n",
        "    images = []\n",
        "    for img in os.listdir(path):\n",
        "      im = cv.imread(os.path.join(path, img), 0)\n",
        "      im = cv.resize(im, (100, 100))\n",
        "      images.append([im/255, index])\n",
        "    sub_training_set, sub_test_set = split(images)\n",
        "    training_set = training_set + sub_training_set\n",
        "    test_set = test_set + sub_test_set\n",
        "  random.shuffle(training_set)\n",
        "  random.shuffle(test_set)\n",
        "  return training_set, test_set"
      ],
      "execution_count": 0,
      "outputs": []
    },
    {
      "cell_type": "code",
      "metadata": {
        "id": "WtAojmoAbzrt",
        "colab_type": "code",
        "outputId": "1e01d37d-24b1-4989-8c90-13d9f1d223b3",
        "colab": {
          "base_uri": "https://localhost:8080/",
          "height": 34
        }
      },
      "source": [
        "training_set, test_set = load_images()\n",
        "\n",
        "\n",
        "X_train = []\n",
        "y_train = []\n",
        "\n",
        "for image, label in training_set:\n",
        "  X_train.append(image)\n",
        "  y_train.append(label)\n",
        "\n",
        "  \n",
        "X_test = []\n",
        "y_test = []\n",
        "\n",
        "for image, label in test_set:\n",
        "  X_test.append(image)\n",
        "  y_test.append(label)\n",
        "\n",
        "\n",
        "print(len(X_train), len(X_test))"
      ],
      "execution_count": 0,
      "outputs": [
        {
          "output_type": "stream",
          "text": [
            "4697 465\n"
          ],
          "name": "stdout"
        }
      ]
    },
    {
      "cell_type": "markdown",
      "metadata": {
        "id": "DO9SQl252AyC",
        "colab_type": "text"
      },
      "source": [
        "The training set contains 4697 images\n",
        "\n",
        "The test set contains 465 images"
      ]
    },
    {
      "cell_type": "markdown",
      "metadata": {
        "id": "ZEFJJnl8DhIP",
        "colab_type": "text"
      },
      "source": [
        "# **Array Transformation**"
      ]
    },
    {
      "cell_type": "code",
      "metadata": {
        "id": "FyWo3QXhx8zZ",
        "colab_type": "code",
        "colab": {}
      },
      "source": [
        "X_train = np.array(X_train).reshape(4697, 100, 100, 1)\n",
        "y_train = to_categorical(np.array(y_train))\n",
        "\n",
        "X_test = np.array(X_test).reshape(465, 100, 100, 1)\n",
        "y_test = to_categorical(np.array(y_test))"
      ],
      "execution_count": 0,
      "outputs": []
    },
    {
      "cell_type": "markdown",
      "metadata": {
        "id": "OoRZxjV_Dr9o",
        "colab_type": "text"
      },
      "source": [
        "# **Storing Data**"
      ]
    },
    {
      "cell_type": "code",
      "metadata": {
        "id": "Q76eFOj6zLhM",
        "colab_type": "code",
        "outputId": "6c07c662-d9a5-4634-f1a1-b93b1187cef1",
        "colab": {
          "base_uri": "https://localhost:8080/",
          "height": 34
        }
      },
      "source": [
        "out = open('/content/drive/My Drive/Data/X_train.pickle', 'wb')\n",
        "pickle.dump(X_train, out)\n",
        "\n",
        "out = open('/content/drive/My Drive/Data/y_train.pickle', 'wb')\n",
        "pickle.dump(y_train, out)\n",
        "\n",
        "out = open('/content/drive/My Drive/Data/X_test.pickle', 'wb')\n",
        "pickle.dump(X_test, out)\n",
        "\n",
        "out = open('/content/drive/My Drive/Data/y_test.pickle', 'wb')\n",
        "pickle.dump(y_test, out)\n",
        "out.close"
      ],
      "execution_count": 0,
      "outputs": [
        {
          "output_type": "execute_result",
          "data": {
            "text/plain": [
              "<function BufferedWriter.close>"
            ]
          },
          "metadata": {
            "tags": []
          },
          "execution_count": 8
        }
      ]
    }
  ]
}