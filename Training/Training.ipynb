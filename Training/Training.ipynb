{
  "nbformat": 4,
  "nbformat_minor": 0,
  "metadata": {
    "colab": {
      "name": "Training.ipynb",
      "version": "0.3.2",
      "provenance": []
    },
    "kernelspec": {
      "name": "python3",
      "display_name": "Python 3"
    },
    "accelerator": "TPU"
  },
  "cells": [
    {
      "cell_type": "markdown",
      "metadata": {
        "id": "oB2O7erwnGHy",
        "colab_type": "text"
      },
      "source": [
        "# **Import**"
      ]
    },
    {
      "cell_type": "code",
      "metadata": {
        "id": "FrW73bwN6Z5D",
        "colab_type": "code",
        "colab": {}
      },
      "source": [
        "import numpy as np\n",
        "import tensorflow as tf\n",
        "from tensorflow.keras.models import Sequential\n",
        "from tensorflow.keras.layers import Dense, Dropout, Activation, Flatten, Conv2D, MaxPooling2D\n",
        "import pickle\n",
        "from google.colab import drive"
      ],
      "execution_count": 0,
      "outputs": []
    },
    {
      "cell_type": "code",
      "metadata": {
        "id": "c3hPJ6PBHCCx",
        "colab_type": "code",
        "outputId": "7939bf27-8f56-40b9-d95a-95124d05d3d5",
        "colab": {
          "base_uri": "https://localhost:8080/",
          "height": 34
        }
      },
      "source": [
        "drive.mount('/content/drive')"
      ],
      "execution_count": 0,
      "outputs": [
        {
          "output_type": "stream",
          "text": [
            "Drive already mounted at /content/drive; to attempt to forcibly remount, call drive.mount(\"/content/drive\", force_remount=True).\n"
          ],
          "name": "stdout"
        }
      ]
    },
    {
      "cell_type": "markdown",
      "metadata": {
        "id": "LJYo_dJNnLd7",
        "colab_type": "text"
      },
      "source": [
        "# **Loading Data Sets**"
      ]
    },
    {
      "cell_type": "code",
      "metadata": {
        "id": "36HHB1JyHFed",
        "colab_type": "code",
        "colab": {}
      },
      "source": [
        "X_train_pickle = open('/content/drive/My Drive/Data/X_train.pickle', 'rb')\n",
        "X_train = pickle.load(X_train_pickle)\n",
        "\n",
        "y_train_pickle = open('/content/drive/My Drive/Data/y_train.pickle', 'rb')\n",
        "y_train = pickle.load(y_train_pickle)"
      ],
      "execution_count": 0,
      "outputs": []
    },
    {
      "cell_type": "markdown",
      "metadata": {
        "id": "HFqE_uGrnPnM",
        "colab_type": "text"
      },
      "source": [
        "# **Training**"
      ]
    },
    {
      "cell_type": "code",
      "metadata": {
        "id": "7F3Q5Wq4HR89",
        "colab_type": "code",
        "outputId": "3cc8026f-b075-481b-8807-8a962a24b4a4",
        "colab": {
          "base_uri": "https://localhost:8080/",
          "height": 1000
        }
      },
      "source": [
        "model = Sequential()\n",
        "\n",
        "model.add(Conv2D(64, (3,3), input_shape=(100, 100, 1)))\n",
        "model.add(MaxPooling2D(pool_size=(2,2)))\n",
        "\n",
        "model.add(Conv2D(128, (3,3)))\n",
        "model.add(MaxPooling2D(pool_size=(2,2)))\n",
        "\n",
        "model.add(Conv2D(128, (3,3)))\n",
        "model.add(MaxPooling2D(pool_size=(2,2)))\n",
        "\n",
        "model.add(Conv2D(64, (3,3)))\n",
        "model.add(MaxPooling2D(pool_size=(2,2)))\n",
        "\n",
        "model.add(Flatten())\n",
        "model.add(Dense(64))\n",
        "model.add(Activation('relu'))\n",
        "\n",
        "model.add(Dense(36))\n",
        "model.add(Activation('softmax'))\n",
        "\n",
        "model.compile(loss='categorical_crossentropy', optimizer = tf.keras.optimizers.RMSprop(lr=0.0001), metrics=['accuracy'])\n",
        "\n",
        "model.fit(X_train, y_train, epochs=40, batch_size=30, validation_split=0.1)"
      ],
      "execution_count": 0,
      "outputs": [
        {
          "output_type": "stream",
          "text": [
            "Train on 4227 samples, validate on 470 samples\n",
            "Epoch 1/40\n",
            "4227/4227 [==============================] - 161s 38ms/sample - loss: 3.5697 - acc: 0.0412 - val_loss: 3.5535 - val_acc: 0.0404\n",
            "Epoch 2/40\n",
            "4227/4227 [==============================] - 161s 38ms/sample - loss: 3.5046 - acc: 0.0617 - val_loss: 3.4431 - val_acc: 0.0936\n",
            "Epoch 3/40\n",
            "4227/4227 [==============================] - 161s 38ms/sample - loss: 3.3205 - acc: 0.1088 - val_loss: 3.2183 - val_acc: 0.1553\n",
            "Epoch 4/40\n",
            "4227/4227 [==============================] - 161s 38ms/sample - loss: 3.0326 - acc: 0.1628 - val_loss: 2.8681 - val_acc: 0.2340\n",
            "Epoch 5/40\n",
            "4227/4227 [==============================] - 161s 38ms/sample - loss: 2.6659 - acc: 0.2347 - val_loss: 2.4945 - val_acc: 0.2596\n",
            "Epoch 6/40\n",
            "4227/4227 [==============================] - 160s 38ms/sample - loss: 2.3195 - acc: 0.3137 - val_loss: 2.2008 - val_acc: 0.3213\n",
            "Epoch 7/40\n",
            "4227/4227 [==============================] - 160s 38ms/sample - loss: 2.0530 - acc: 0.3743 - val_loss: 2.0313 - val_acc: 0.3830\n",
            "Epoch 8/40\n",
            "4227/4227 [==============================] - 161s 38ms/sample - loss: 1.8160 - acc: 0.4353 - val_loss: 1.7138 - val_acc: 0.4787\n",
            "Epoch 9/40\n",
            "4227/4227 [==============================] - 160s 38ms/sample - loss: 1.6293 - acc: 0.4937 - val_loss: 1.6669 - val_acc: 0.4723\n",
            "Epoch 10/40\n",
            "4227/4227 [==============================] - 161s 38ms/sample - loss: 1.4445 - acc: 0.5429 - val_loss: 1.5119 - val_acc: 0.5298\n",
            "Epoch 11/40\n",
            "4227/4227 [==============================] - 161s 38ms/sample - loss: 1.2937 - acc: 0.5867 - val_loss: 1.3173 - val_acc: 0.6043\n",
            "Epoch 12/40\n",
            "4227/4227 [==============================] - 160s 38ms/sample - loss: 1.1634 - acc: 0.6286 - val_loss: 1.2717 - val_acc: 0.5745\n",
            "Epoch 13/40\n",
            "4227/4227 [==============================] - 160s 38ms/sample - loss: 1.0421 - acc: 0.6671 - val_loss: 1.0905 - val_acc: 0.6468\n",
            "Epoch 14/40\n",
            "4227/4227 [==============================] - 160s 38ms/sample - loss: 0.9570 - acc: 0.6953 - val_loss: 1.0281 - val_acc: 0.6830\n",
            "Epoch 15/40\n",
            "4227/4227 [==============================] - 160s 38ms/sample - loss: 0.8629 - acc: 0.7173 - val_loss: 0.8667 - val_acc: 0.7255\n",
            "Epoch 16/40\n",
            "4227/4227 [==============================] - 160s 38ms/sample - loss: 0.7715 - acc: 0.7596 - val_loss: 0.8842 - val_acc: 0.7149\n",
            "Epoch 17/40\n",
            "4227/4227 [==============================] - 160s 38ms/sample - loss: 0.7109 - acc: 0.7741 - val_loss: 0.8288 - val_acc: 0.7553\n",
            "Epoch 18/40\n",
            "4227/4227 [==============================] - 159s 38ms/sample - loss: 0.6369 - acc: 0.7982 - val_loss: 0.7961 - val_acc: 0.7468\n",
            "Epoch 19/40\n",
            "4227/4227 [==============================] - 159s 38ms/sample - loss: 0.5917 - acc: 0.8072 - val_loss: 0.7139 - val_acc: 0.7787\n",
            "Epoch 20/40\n",
            "4227/4227 [==============================] - 159s 38ms/sample - loss: 0.5391 - acc: 0.8233 - val_loss: 0.9183 - val_acc: 0.6894\n",
            "Epoch 21/40\n",
            "4227/4227 [==============================] - 160s 38ms/sample - loss: 0.5052 - acc: 0.8368 - val_loss: 0.7606 - val_acc: 0.7787\n",
            "Epoch 22/40\n",
            "4227/4227 [==============================] - 159s 38ms/sample - loss: 0.4600 - acc: 0.8514 - val_loss: 0.6431 - val_acc: 0.7936\n",
            "Epoch 23/40\n",
            "4227/4227 [==============================] - 159s 38ms/sample - loss: 0.4229 - acc: 0.8635 - val_loss: 0.6261 - val_acc: 0.7872\n",
            "Epoch 24/40\n",
            "4227/4227 [==============================] - 159s 38ms/sample - loss: 0.3777 - acc: 0.8812 - val_loss: 0.5242 - val_acc: 0.8511\n",
            "Epoch 25/40\n",
            "4227/4227 [==============================] - 159s 38ms/sample - loss: 0.3588 - acc: 0.8841 - val_loss: 0.5012 - val_acc: 0.8489\n",
            "Epoch 26/40\n",
            "4227/4227 [==============================] - 159s 38ms/sample - loss: 0.3273 - acc: 0.8909 - val_loss: 0.5014 - val_acc: 0.8702\n",
            "Epoch 27/40\n",
            "4227/4227 [==============================] - 158s 37ms/sample - loss: 0.3003 - acc: 0.9040 - val_loss: 0.6242 - val_acc: 0.8234\n",
            "Epoch 28/40\n",
            "4227/4227 [==============================] - 159s 38ms/sample - loss: 0.2762 - acc: 0.9125 - val_loss: 0.5393 - val_acc: 0.8574\n",
            "Epoch 29/40\n",
            "4227/4227 [==============================] - 160s 38ms/sample - loss: 0.2602 - acc: 0.9148 - val_loss: 0.5692 - val_acc: 0.8468\n",
            "Epoch 30/40\n",
            "4227/4227 [==============================] - 160s 38ms/sample - loss: 0.2470 - acc: 0.9181 - val_loss: 0.4305 - val_acc: 0.8851\n",
            "Epoch 31/40\n",
            "4227/4227 [==============================] - 160s 38ms/sample - loss: 0.2275 - acc: 0.9231 - val_loss: 0.4331 - val_acc: 0.8894\n",
            "Epoch 32/40\n",
            "4227/4227 [==============================] - 160s 38ms/sample - loss: 0.2145 - acc: 0.9304 - val_loss: 0.5379 - val_acc: 0.8340\n",
            "Epoch 33/40\n",
            "4227/4227 [==============================] - 161s 38ms/sample - loss: 0.2026 - acc: 0.9349 - val_loss: 0.4168 - val_acc: 0.8809\n",
            "Epoch 34/40\n",
            "4227/4227 [==============================] - 160s 38ms/sample - loss: 0.1812 - acc: 0.9404 - val_loss: 0.6120 - val_acc: 0.8426\n",
            "Epoch 35/40\n",
            "4227/4227 [==============================] - 160s 38ms/sample - loss: 0.1725 - acc: 0.9470 - val_loss: 0.3768 - val_acc: 0.9064\n",
            "Epoch 36/40\n",
            "4227/4227 [==============================] - 160s 38ms/sample - loss: 0.1626 - acc: 0.9468 - val_loss: 0.3433 - val_acc: 0.9085\n",
            "Epoch 37/40\n",
            "4227/4227 [==============================] - 160s 38ms/sample - loss: 0.1668 - acc: 0.9449 - val_loss: 0.5307 - val_acc: 0.8596\n",
            "Epoch 38/40\n",
            "4227/4227 [==============================] - 160s 38ms/sample - loss: 0.1379 - acc: 0.9567 - val_loss: 0.4749 - val_acc: 0.8894\n",
            "Epoch 39/40\n",
            "4227/4227 [==============================] - 160s 38ms/sample - loss: 0.1300 - acc: 0.9579 - val_loss: 0.4083 - val_acc: 0.8957\n",
            "Epoch 40/40\n",
            "4227/4227 [==============================] - 160s 38ms/sample - loss: 0.1285 - acc: 0.9584 - val_loss: 0.4644 - val_acc: 0.8745\n"
          ],
          "name": "stdout"
        },
        {
          "output_type": "execute_result",
          "data": {
            "text/plain": [
              "<tensorflow.python.keras.callbacks.History at 0x7f6525fa0208>"
            ]
          },
          "metadata": {
            "tags": []
          },
          "execution_count": 11
        }
      ]
    },
    {
      "cell_type": "code",
      "metadata": {
        "id": "eTljztf3QWle",
        "colab_type": "code",
        "outputId": "d88b023c-a19f-4f7c-aeb7-3caffc63afd9",
        "colab": {
          "base_uri": "https://localhost:8080/",
          "height": 68
        }
      },
      "source": [
        "X_ev_pickle = open('/content/drive/My Drive/Data/X_ev.pickle', 'rb')\n",
        "X_ev = pickle.load(X_ev_pickle)\n",
        "\n",
        "y_ev_pickle = open('/content/drive/My Drive/Data/y_ev.pickle', 'rb')\n",
        "y_ev = pickle.load(y_ev_pickle)\n",
        "\n",
        "loss, accuracy = model.evaluate(X_ev, y_ev)\n",
        "print(loss)\n",
        "print(accuracy)"
      ],
      "execution_count": 0,
      "outputs": [
        {
          "output_type": "stream",
          "text": [
            "465/465 [==============================] - 5s 10ms/sample - loss: 0.3782 - acc: 0.8882\n",
            "0.37822815243915847\n",
            "0.88817203\n"
          ],
          "name": "stdout"
        }
      ]
    },
    {
      "cell_type": "markdown",
      "metadata": {
        "id": "si9SCD8rlC3Z",
        "colab_type": "text"
      },
      "source": [
        "# **Storing Model**"
      ]
    },
    {
      "cell_type": "code",
      "metadata": {
        "id": "dZoP_oY2Miw2",
        "colab_type": "code",
        "colab": {}
      },
      "source": [
        "model.save('/content/drive/My Drive/Datamodel8.h5')"
      ],
      "execution_count": 0,
      "outputs": []
    }
  ]
}